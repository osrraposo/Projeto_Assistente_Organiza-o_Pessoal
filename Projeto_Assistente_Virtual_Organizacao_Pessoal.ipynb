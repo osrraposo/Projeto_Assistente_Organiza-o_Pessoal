{
  "nbformat": 4,
  "nbformat_minor": 0,
  "metadata": {
    "colab": {
      "provenance": [],
      "authorship_tag": "ABX9TyMSTeb41i2rQZOM9DmH1z/J",
      "include_colab_link": true
    },
    "kernelspec": {
      "name": "python3",
      "display_name": "Python 3"
    },
    "language_info": {
      "name": "python"
    }
  },
  "cells": [
    {
      "cell_type": "markdown",
      "metadata": {
        "id": "view-in-github",
        "colab_type": "text"
      },
      "source": [
        "<a href=\"https://colab.research.google.com/github/osrraposo/Projeto_Assistente_Virtual_Organizacao_Pessoal/blob/main/Projeto_Assistente_Virtual_Organizacao_Pessoal.ipynb\" target=\"_parent\"><img src=\"https://colab.research.google.com/assets/colab-badge.svg\" alt=\"Open In Colab\"/></a>"
      ]
    },
    {
      "cell_type": "markdown",
      "source": [
        "Instalando o google GenerativeAI"
      ],
      "metadata": {
        "id": "-ANzaho2XZzs"
      }
    },
    {
      "cell_type": "code",
      "execution_count": null,
      "metadata": {
        "id": "KUXeo_QDXX9p"
      },
      "outputs": [],
      "source": [
        "!pip install -q -U google-generativeai"
      ]
    },
    {
      "cell_type": "markdown",
      "source": [
        "Importanto Bibliotecas"
      ],
      "metadata": {
        "id": "KOIsziritZ2O"
      }
    },
    {
      "cell_type": "code",
      "source": [
        "import google.generativeai as genai\n",
        "from google.colab import userdata\n",
        "import pandas as pd\n",
        "from datetime import datetime"
      ],
      "metadata": {
        "id": "XHyytyqdtdGg"
      },
      "execution_count": 60,
      "outputs": []
    },
    {
      "cell_type": "markdown",
      "source": [
        "Carregando a chave da API"
      ],
      "metadata": {
        "id": "thO8jZ9etj3B"
      }
    },
    {
      "cell_type": "code",
      "source": [
        "api_key = userdata.get('SECRET_KEY')\n",
        "genai.configure(api_key=api_key)"
      ],
      "metadata": {
        "id": "Q8WqGBqPtmDD"
      },
      "execution_count": 3,
      "outputs": []
    },
    {
      "cell_type": "markdown",
      "source": [
        "Criando uma variavel para colocar o modelo de utilização"
      ],
      "metadata": {
        "id": "zq8gDtfw1HSb"
      }
    },
    {
      "cell_type": "code",
      "source": [
        "model = genai.GenerativeModel(\n",
        "    model_name='gemini-1.0-pro'\n",
        ")"
      ],
      "metadata": {
        "id": "cj92nxmA1GjJ"
      },
      "execution_count": 13,
      "outputs": []
    },
    {
      "cell_type": "markdown",
      "source": [
        "Criando uma lista para armazenar os dados"
      ],
      "metadata": {
        "id": "VWnfUP2Pttkd"
      }
    },
    {
      "cell_type": "code",
      "source": [
        "tarefas = []\n",
        "lembretes = []\n",
        "eventos = []"
      ],
      "metadata": {
        "id": "GrXGHMIEtrBY"
      },
      "execution_count": 15,
      "outputs": []
    },
    {
      "cell_type": "markdown",
      "source": [
        "Adicionando Funções"
      ],
      "metadata": {
        "id": "H2LGea0huo9I"
      }
    },
    {
      "cell_type": "code",
      "source": [
        "# Função para adicionar uma nova tarefa\n",
        "def adicionar_tarefa(nome, descricao, data_limite, status):\n",
        "  nova_tarefa = {\n",
        "      \"nome\": nome,\n",
        "      \"descricao\": descricao,\n",
        "      \"data_limite\": data_limite,\n",
        "      \"status\": status\n",
        "  }\n",
        "  tarefas.append(nova_tarefa)\n",
        "\n",
        "# Função para visualizar todas as tarefas\n",
        "def visualizar_tarefas():\n",
        "  if tarefas:\n",
        "    for tarefa in tarefas:\n",
        "      print(\"----------------------\")\n",
        "      print(f\"Tarefa: {tarefa['nome']}\")\n",
        "      print(f\"Descrição: {tarefa['descricao']}\")\n",
        "      print(f\"Data limite: {tarefa['data_limite']}\")\n",
        "      print(f\"Status: {tarefa['status']}\")\n",
        "      print(\"\\n\")\n",
        "  else:\n",
        "    print(\"Você não tem nenhuma tarefa cadastrada.\")\n",
        "\n",
        "# Função para editar uma tarefa\n",
        "def editar_tarefa(nome_antigo, novo_nome, nova_descricao, nova_data_limite, novo_status):\n",
        "  for i, tarefa in enumerate(tarefas):\n",
        "    if tarefa[\"nome\"] == nome_antigo:\n",
        "      tarefas[i] = {\n",
        "          \"nome\": novo_nome,\n",
        "          \"descricao\": nova_descricao,\n",
        "          \"data_limite\": nova_data_limite,\n",
        "          \"status\": novo_status\n",
        "      }\n",
        "      print(f\"Tarefa '{nome_antigo}' atualizada com sucesso!\")\n",
        "      return\n",
        "  print(f\"Tarefa '{nome_antigo}' não encontrada.\")\n",
        "\n",
        "# Função para excluir uma tarefa\n",
        "def excluir_tarefa(nome):\n",
        "  for tarefa in tarefas:\n",
        "    if tarefa[\"nome\"] == nome:\n",
        "      tarefas.remove(tarefa)\n",
        "      print(f\"Tarefa '{nome}' excluída com sucesso!\")\n",
        "      return\n",
        "  print(f\"Tarefa '{nome}' não encontrada.\")\n",
        "\n",
        "# Função para adicionar um novo lembrete\n",
        "def adicionar_lembrete(texto, data_hora):\n",
        "  novo_lembrete = {\n",
        "      \"texto\": texto,\n",
        "      \"data_hora\": data_hora\n",
        "  }\n",
        "  lembretes.append(novo_lembrete)\n",
        "\n",
        "# Função para visualizar todos os lembretes\n",
        "def visualizar_lembretes():\n",
        "  if lembretes:\n",
        "    for lembrete in lembretes:\n",
        "      print(\"----------------------\")\n",
        "      print(f\"Lembrete: {lembrete['texto']}\")\n",
        "      print(f\"Data/Hora: {lembrete['data_hora']}\")\n",
        "      print(\"\\n\")\n",
        "  else:\n",
        "    print(\"Você não tem nenhum lembrete cadastrado.\")\n",
        "\n",
        "# Função para editar um lembrete\n",
        "def editar_lembrete(texto_antigo, novo_texto, nova_data_hora):\n",
        "  for i, lembrete in enumerate(lembrete):\n",
        "   if lembrete[\"texto\"] == texto_antigo:\n",
        "     lembretes[i] = {\n",
        "         \"texto\": novo_texto,\n",
        "         \"data_hora\": nova_data_hora\n",
        "     }\n",
        "     print(f\"Lembrete '{texto_antigo}' atualizada com sucesso!\")\n",
        "     return\n",
        "  print(f\"Lembrete '{texto_antigo}' não encontrada.\")\n",
        "\n",
        "# Função para excluir um lembrete\n",
        "def excluir_lembrete(texto):\n",
        "  for lembrete in lembretes:\n",
        "    if lembrete[\"texto\"] == texto:\n",
        "      lembretes.remove(lembrete)\n",
        "      print(f\"Tarefa '{lembrete}' excluída com sucesso!\")\n",
        "      return\n",
        "  print(f\"Tarefa '{lembrete}' não encontrada.\")\n",
        "\n",
        "# Função para adicionar um novo evento\n",
        "def adicionar_evento(titulo, descricao, data_hora, local):\n",
        "  novo_evento = {\n",
        "      \"titulo\": titulo,\n",
        "      \"descricao\": descricao,\n",
        "      \"data_hora\": data_hora,\n",
        "      \"local\": local,\n",
        "  }\n",
        "  eventos.append(novo_evento)\n",
        "\n",
        "# Função para visualizar todos os eventos\n",
        "def visualizar_eventos():\n",
        "  if eventos:\n",
        "    for evento in eventos:\n",
        "      print(\"----------------------\")\n",
        "      print(f\"Evento: {evento['titulo']}\")\n",
        "      print(f\"Descrição: {evento['descricao']}\")\n",
        "      print(f\"Data/Hora: {evento['data_hora']}\")\n",
        "      print(f\"Local: {evento['local']}\")\n",
        "      print(\"\\n\")\n",
        "  else:\n",
        "    print(\"Você não tem nenhum evento cadastrado.\")\n",
        "\n",
        "# Função para editar um evento\n",
        "def editar_evento(titulo_antigo, novo_titulo, nova_descricao, nova_data_hora, novo_local):\n",
        "  for i, evento in enumerate(eventos):\n",
        "    if eventos[\"titulo\"] == titulo_antigo:\n",
        "      eventos[i] = {\n",
        "          \"titulo\": novo_titulo,\n",
        "          \"descricao\": nova_descricao,\n",
        "          \"data_hora\": nova_data_hora,\n",
        "          \"local\": novo_local,\n",
        "      }\n",
        "      print(f\"Evento '{titulo_antigo}' atualizado com sucesso!\")\n",
        "      return\n",
        "  print(f\"Evento '{titulo_antigo}' não encontrado.\")\n",
        "\n",
        "# Função para excluir um evento\n",
        "def excluir_evento(titulo):\n",
        "  for evento in eventos:\n",
        "    if evento[\"titulo\"] == titulo:\n",
        "      eventos.remove(evento)\n",
        "      print(f\"Evento '{titulo}' excluído com sucesso!\")\n",
        "      return\n",
        "  print(f\"Evento '{titulo}' não encontrado.\")\n",
        "\n",
        "# Função para o chat\n",
        "chat = model.start_chat(history=[])\n",
        "\n",
        "#Função identificar a intenção da mensagem\n",
        "def identificar_intencao(mensagem_usuario):\n",
        "  doc = nlp(mensagem_usuario)\n",
        "  intent_entity = doc.ents.get(label=\"INTENT\")\n",
        "  if intent_entity:\n",
        "    return intent_entity.text\n",
        "  else:\n",
        "    return None\n",
        "\n",
        "# Função para interagir com o usuário\n",
        "def chat_interativo():\n",
        "  while True:\n",
        "    print(\"----------------------\")\n",
        "    print(\"O que você deseja fazer?\")\n",
        "    print(\"----------------------\")\n",
        "    print(\"1. Adicionar tarefa\")\n",
        "    print(\"----------------------\")\n",
        "    print(\"2. Visualizar tarefas\")\n",
        "    print(\"----------------------\")\n",
        "    print(\"3. Editar tarefa\")\n",
        "    print(\"----------------------\")\n",
        "    print(\"4. Excluir tarefa\")\n",
        "    print(\"----------------------\")\n",
        "    print(\"5. Adicionar lembrete\")\n",
        "    print(\"----------------------\")\n",
        "    print(\"6. Visualizar lembretes\")\n",
        "    print(\"----------------------\")\n",
        "    print(\"7. Editar lembrete\")\n",
        "    print(\"----------------------\")\n",
        "    print(\"8. Excluir lembrete\")\n",
        "    print(\"----------------------\")\n",
        "    print(\"9. Adicionar evento\")\n",
        "    print(\"----------------------\")\n",
        "    print(\"10. Visualizar eventos\")\n",
        "    print(\"----------------------\")\n",
        "    print(\"11. Editar evento\")\n",
        "    print(\"----------------------\")\n",
        "    print(\"12. Excluir evento\")\n",
        "    print(\"----------------------\")\n",
        "    print(\"13. Chat para perguntas sobre organização do dia\")\n",
        "    print(\"----------------------\")\n",
        "    print(\"14. Sair\")\n",
        "    print(\"----------------------\")\n",
        "\n",
        "    escolha_str = input(\"Digite sua opção númerica: \")\n",
        "\n",
        "    while not escolha_str.isdigit():\n",
        "      print(\"Opção inválida. Digite um número válido.\")\n",
        "      escolha_str = input(\"Digite sua opção númerica: \")\n",
        "\n",
        "    escolha = int(escolha_str)\n",
        "\n",
        "    if escolha == 1:\n",
        "      print(\"----------------------\")\n",
        "      nome = input(\"Digite o nome da tarefa: \")\n",
        "      descricao = input(\"Digite a descrição da tarefa: \")\n",
        "      data_limite = input(\"Digite a data limite da tarefa (dd/mm/aaaa): \")\n",
        "      status = input(\"Digite o status da tarefa (Pendente ou Concluída): \")\n",
        "      adicionar_tarefa(nome, descricao, data_limite, status)\n",
        "    elif escolha == 2:\n",
        "      visualizar_tarefas()\n",
        "    elif escolha == 3:\n",
        "      print(\"----------------------\")\n",
        "      nome_antigo = input(\"Digite o nome da tarefa que deseja editar: \")\n",
        "      novo_nome = input(\"Digite o novo nome da tarefa: \")\n",
        "      nova_descricao = input(\"Digite a nova descrição da tarefa: \")\n",
        "      nova_data_limite = input(\"Digite a nova data limite da tarefa (dd/mm/aaaa): \")\n",
        "      novo_status = input(\"Digite o novo status da tarefa (Pendente ou Concluída): \")\n",
        "      editar_tarefa(nome_antigo, novo_nome, nova_descricao, nova_data_limite, novo_status)\n",
        "    elif escolha == 4:\n",
        "      print(\"----------------------\")\n",
        "      nome = input(\"Digite o nome da tarefa que deseja excluir: \")\n",
        "      excluir_tarefa(nome)\n",
        "    elif escolha == 5:\n",
        "      print(\"----------------------\")\n",
        "      texto = input(\"Digite o texto do lembrete: \")\n",
        "      data_hora = input(\"Digite a data e hora do lembrete (dd/mm/aaaa hh:mm): \")\n",
        "      adicionar_lembrete(texto, data_hora)\n",
        "    elif escolha == 6:\n",
        "      visualizar_lembretes()\n",
        "    elif escolha == 7:\n",
        "      print(\"----------------------\")\n",
        "      texto_antigo = input(\"Digite o texto do lembrete que deseja editar: \")\n",
        "      novo_texto = input(\"Digite o novo texto do lembrete: \")\n",
        "      nova_data_hora = input(\"Digite a nova data e hora do lembrete (dd/mm/aaaa hh:mm): \")\n",
        "      editar_lembrete(texto_antigo, novo_texto, nova_data_hora)\n",
        "    elif escolha == 8:\n",
        "      print(\"----------------------\")\n",
        "      texto = input(\"Digite o texto do lembrete que deseja excluir: \")\n",
        "      excluir_lembrete(texto)\n",
        "    elif escolha == 9:\n",
        "      print(\"----------------------\")\n",
        "      titulo = input(\"Digite o título do evento: \")\n",
        "      descricao = input(\"Digite a descrição do evento: \")\n",
        "      data_hora = input(\"Digite a data e hora do evento (dd/mm/aaaa hh:mm): \")\n",
        "      local = input(\"Digite o local do evento: \")\n",
        "      adicionar_evento(titulo, descricao, data_hora, local)\n",
        "    elif escolha == 10:\n",
        "      visualizar_eventos()\n",
        "    elif escolha == 11:\n",
        "      print(\"----------------------\")\n",
        "      titulo_antigo = input(\"Digite o título do evento que deseja editar: \")\n",
        "      novo_titulo = input(\"Digite o novo título do evento: \")\n",
        "      nova_descricao = input(\"Digite a nova descrição do evento: \")\n",
        "      nova_data_hora = input(\"Digite a nova data e hora do evento (dd/mm/aaaa hh:mm): \")\n",
        "      editar_evento(titulo_antigo, novo_titulo, nova_descricao, nova_data_hora, novo_local)\n",
        "    elif escolha == 12:\n",
        "      print(\"----------------------\")\n",
        "      titulo = input(\"Digite o título do evento que deseja excluir: \")\n",
        "      excluir_evento(titulo)\n",
        "    elif escolha == 13:\n",
        "      chat = model.start_chat(history=[])\n",
        "      while True:\n",
        "        mensagem = input(\"Digite sua pergunta, caso queira sair digite 'SAIR': \")\n",
        "        if mensagem.lower() == 'sair':\n",
        "          break\n",
        "        else:\n",
        "          response = chat.send_message(mensagem)\n",
        "          print(\"Resposta: \",response.text, \"\\n\")\n",
        "    elif escolha == 14:\n",
        "      print(\"Você saiu do programa.\")\n",
        "      break\n",
        "    else:\n",
        "      print(\"----------------------\")\n",
        "      print(\"Opção inválida. Tente novamente.\")"
      ],
      "metadata": {
        "id": "GrX5QnUPusDz"
      },
      "execution_count": 56,
      "outputs": []
    },
    {
      "cell_type": "markdown",
      "source": [
        "Iniciando o Programa"
      ],
      "metadata": {
        "id": "-kkFQKFNB2Bf"
      }
    },
    {
      "cell_type": "code",
      "source": [
        "chat_interativo()"
      ],
      "metadata": {
        "id": "j2SlhfCSB4sK"
      },
      "execution_count": null,
      "outputs": []
    }
  ]
}